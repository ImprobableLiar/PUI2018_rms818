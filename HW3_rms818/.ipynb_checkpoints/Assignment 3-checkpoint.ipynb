{
 "cells": [
  {
   "cell_type": "code",
   "execution_count": 42,
   "metadata": {
    "scrolled": false
   },
   "outputs": [
    {
     "name": "stdout",
     "output_type": "stream",
     "text": [
      "Bus Line : M31\n",
      "Number of Active Buses : 9\n",
      "Bus 0 is at lattitude 40.768245 and longitude -73.992506\n",
      "Bus 1 is at lattitude 40.762103 and longitude -73.97193\n",
      "Bus 2 is at lattitude 40.765643 and longitude -73.980321\n",
      "Bus 3 is at lattitude 40.777246 and longitude -73.946148\n",
      "Bus 4 is at lattitude 40.780079 and longitude -73.945128\n",
      "Bus 5 is at lattitude 40.767541 and longitude -73.989706\n",
      "Bus 6 is at lattitude 40.764441 and longitude -73.977456\n",
      "Bus 7 is at lattitude 40.758124 and longitude -73.962402\n",
      "Bus 8 is at lattitude 40.764606 and longitude -73.977854\n"
     ]
    }
   ],
   "source": [
    "import sys\n",
    "import os\n",
    "import json\n",
    "from __future__ import print_function\n",
    "\n",
    "try:\n",
    "    import urllib2 as urllib\n",
    "except ImportError:\n",
    "    import urllib.request as urllib\n",
    "\n",
    "MTA_KEY = \"013d007d-d42d-440b-a79e-a9f2ea7d0758\"\n",
    "BUS_LINE = \"M31\"\n",
    "\n",
    "url = \"http://bustime.mta.info/api/siri/vehicle-monitoring.json?key=\"+MTA_KEY+\"&VehicleMonitoringDetailLevel=calls&LineRef=\"+BUS_LINE\n",
    "\n",
    "response = urllib.urlopen(url)\n",
    "data = response.read().decode(\"utf-8\")\n",
    "data = json.loads(data)\n",
    "\n",
    "busactivity = data['Siri']['ServiceDelivery']['VehicleMonitoringDelivery'][0]['VehicleActivity']\n",
    "\n",
    "print(\"Bus Line : \"+BUS_LINE)\n",
    "print(\"Number of Active Buses : \" + str(len(busactivity)))\n",
    "\n",
    "for i in range(len(busactivity)):\n",
    "    print(\"Bus \"+str(i)+\" is at lattitude \"+str(busactivity[i]['MonitoredVehicleJourney']['VehicleLocation']['Latitude'])+\" and longitude \"+str(busactivity[i]['MonitoredVehicleJourney']['VehicleLocation']['Longitude']))"
   ]
  },
  {
   "cell_type": "code",
   "execution_count": null,
   "metadata": {},
   "outputs": [],
   "source": []
  }
 ],
 "metadata": {
  "kernelspec": {
   "display_name": "PUI2016_Python3",
   "language": "python",
   "name": "pui2016_python3"
  },
  "language_info": {
   "codemirror_mode": {
    "name": "ipython",
    "version": 3
   },
   "file_extension": ".py",
   "mimetype": "text/x-python",
   "name": "python",
   "nbconvert_exporter": "python",
   "pygments_lexer": "ipython3",
   "version": "3.5.4"
  }
 },
 "nbformat": 4,
 "nbformat_minor": 2
}
