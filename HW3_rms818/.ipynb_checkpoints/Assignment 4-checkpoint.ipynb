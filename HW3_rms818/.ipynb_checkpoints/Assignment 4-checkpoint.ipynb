{
 "cells": [
  {
   "cell_type": "code",
   "execution_count": 59,
   "metadata": {
    "scrolled": false
   },
   "outputs": [
    {
     "name": "stdout",
     "output_type": "stream",
     "text": [
      "Latitude,Longitude,Stop Name,Stop Status\n",
      "40.766543,-73.982453,W 57 ST/8 AV,at stop\n",
      "40.768245,-73.992506,N/A, N/A\n",
      "40.76679,-73.953794,YORK AV/E 72 ST,at stop\n",
      "40.780096,-73.94517,EAST 92 ST/YORK AV,approaching\n",
      "40.775299,-73.947577,YORK AV/E 86 ST,approaching\n",
      "40.762464,-73.972793,W 57 ST/5 AV,approaching\n"
     ]
    }
   ],
   "source": [
    "import sys\n",
    "import os\n",
    "import json\n",
    "from __future__ import print_function\n",
    "\n",
    "try:\n",
    "    import urllib2 as urllib\n",
    "except ImportError:\n",
    "    import urllib.request as urllib\n",
    "\n",
    "MTA_KEY = \"013d007d-d42d-440b-a79e-a9f2ea7d0758\"\n",
    "BUS_LINE = \"M31\"\n",
    "\n",
    "url = \"http://bustime.mta.info/api/siri/vehicle-monitoring.json?key=\"+MTA_KEY+\"&VehicleMonitoringDetailLevel=calls&LineRef=\"+BUS_LINE\n",
    "\n",
    "response = urllib.urlopen(url)\n",
    "data = response.read().decode(\"utf-8\")\n",
    "data = json.loads(data)\n",
    "\n",
    "busactivity = data['Siri']['ServiceDelivery']['VehicleMonitoringDelivery'][0]['VehicleActivity']\n",
    "\n",
    "print(\"Latitude,Longitude,Stop Name,Stop Status\")\n",
    "\n",
    "stoppointname = \"\"\n",
    "stopstatus = \"\"\n",
    "\n",
    "for i in range(len(busactivity)):\n",
    "    lat = str(busactivity[i]['MonitoredVehicleJourney']['VehicleLocation']['Latitude'])\n",
    "    long = str(busactivity[i]['MonitoredVehicleJourney']['VehicleLocation']['Longitude'])\n",
    "    \n",
    "    if bool(busactivity[i]['MonitoredVehicleJourney']['OnwardCalls']):\n",
    "        stoppointname = busactivity[i]['MonitoredVehicleJourney']['OnwardCalls']['OnwardCall'][0]['StopPointName']\n",
    "        stopstatus = busactivity[i]['MonitoredVehicleJourney']['OnwardCalls']['OnwardCall'][0]['Extensions']['Distances']['PresentableDistance']\n",
    "        \n",
    "        print(lat+\",\"+long+\",\"+stoppointname+\",\"+stopstatus)\n",
    "        \n",
    "    else:\n",
    "        print(lat+\",\"+long+\",\"+\"N/A, N/A\")"
   ]
  },
  {
   "cell_type": "code",
   "execution_count": null,
   "metadata": {},
   "outputs": [],
   "source": []
  }
 ],
 "metadata": {
  "kernelspec": {
   "display_name": "PUI2016_Python3",
   "language": "python",
   "name": "pui2016_python3"
  },
  "language_info": {
   "codemirror_mode": {
    "name": "ipython",
    "version": 3
   },
   "file_extension": ".py",
   "mimetype": "text/x-python",
   "name": "python",
   "nbconvert_exporter": "python",
   "pygments_lexer": "ipython3",
   "version": "3.5.4"
  }
 },
 "nbformat": 4,
 "nbformat_minor": 2
}
